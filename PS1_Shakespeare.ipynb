{
  "nbformat": 4,
  "nbformat_minor": 0,
  "metadata": {
    "colab": {
      "name": "PS1-Shakespeare.ipynb",
      "provenance": [],
      "collapsed_sections": [],
      "include_colab_link": true
    },
    "kernelspec": {
      "name": "python3",
      "display_name": "Python 3"
    }
  },
  "cells": [
    {
      "cell_type": "markdown",
      "metadata": {
        "id": "view-in-github",
        "colab_type": "text"
      },
      "source": [
        "<a href=\"https://colab.research.google.com/github/rgrudt/CS6120-PS1/blob/master/PS1_Shakespeare.ipynb\" target=\"_parent\"><img src=\"https://colab.research.google.com/assets/colab-badge.svg\" alt=\"Open In Colab\"/></a>"
      ]
    },
    {
      "cell_type": "markdown",
      "metadata": {
        "id": "ghmXbcymaHxC"
      },
      "source": [
        "In this experiment, you will train models to distringuish examples of two different genres of Shakespeare's plays: comedies and tragedies. (We'll ignore the histories, sonnets, etc.) Since he died four hundred years ago, Shakespeare has not written any more plays—although scraps of various other works have come to light. We are not, therefore, interested in building models simply to help categorize an unbounded stream of future documents, as we might be in other applications of text classification; rather, we are interested in what a classifier might have to tell us about what we mean by the terms “comedy” and “tragedy”.\n",
        "\n",
        "You will start by copying and running your `createBasicFeatures` function from the experiment with movie reviews. Do the features the classifier focuses on tell you much about comedy and tragedy in general?\n",
        "\n",
        "You will then implement another featurization function `createInterestingFeatures`, which will focus on only those features you think are informative for distinguishing between comedy and tragedy. Accuracy on leave-one-out cross-validation may go up, but it more important to look at the features given the highest weight by the classifier. Interpretability in machine learning, of course, may be harder to define than accuracy—although accuracy at some tasks such as summarization is hard enoough."
      ]
    },
    {
      "cell_type": "code",
      "metadata": {
        "id": "AdVS67_HNRmW"
      },
      "source": [
        "import json\n",
        "import requests\n",
        "from sklearn.linear_model import LogisticRegression\n",
        "from sklearn.model_selection import cross_validate,LeaveOneOut\n",
        "import numpy as np"
      ],
      "execution_count": 1,
      "outputs": []
    },
    {
      "cell_type": "code",
      "metadata": {
        "id": "LzQRAT-bMQ5o",
        "outputId": "5e79cc84-874e-4bb8-be90-494b5c8106b5",
        "colab": {
          "base_uri": "https://localhost:8080/",
          "height": 119
        }
      },
      "source": [
        "from sklearn.feature_extraction import DictVectorizer\n",
        "from collections import Counter, OrderedDict\n",
        "from nltk.corpus import stopwords\n",
        "import nltk\n",
        "nltk.download('stopwords')\n",
        "import re\n",
        "import pandas as pd\n",
        "\n",
        "nltk.download('averaged_perceptron_tagger')"
      ],
      "execution_count": 2,
      "outputs": [
        {
          "output_type": "stream",
          "text": [
            "[nltk_data] Downloading package stopwords to /root/nltk_data...\n",
            "[nltk_data]   Unzipping corpora/stopwords.zip.\n",
            "[nltk_data] Downloading package averaged_perceptron_tagger to\n",
            "[nltk_data]     /root/nltk_data...\n",
            "[nltk_data]   Unzipping taggers/averaged_perceptron_tagger.zip.\n"
          ],
          "name": "stdout"
        },
        {
          "output_type": "execute_result",
          "data": {
            "text/plain": [
              "True"
            ]
          },
          "metadata": {
            "tags": []
          },
          "execution_count": 2
        }
      ]
    },
    {
      "cell_type": "code",
      "metadata": {
        "id": "PzjMY8fYQbB6"
      },
      "source": [
        "#read in the shakespeare corpus\n",
        "def readShakespeare():\n",
        "  raw = requests.get(\"https://raw.githubusercontent.com/mutherr/CS6120-PS1-data/master/shakespeare_plays.json\").text.strip()\n",
        "  corpus = [json.loads(line) for line in raw.split(\"\\n\")]\n",
        "\n",
        "  #remove histories from the data, as we're only working with tragedies and comedies\n",
        "  corpus = [entry for entry in corpus if entry[\"genre\"] != \"history\"]\n",
        "  return corpus"
      ],
      "execution_count": 3,
      "outputs": []
    },
    {
      "cell_type": "markdown",
      "metadata": {
        "id": "v0r3oL3TdHIU"
      },
      "source": [
        "This is where you will implement two functions to featurize the data:"
      ]
    },
    {
      "cell_type": "code",
      "metadata": {
        "id": "039fPQcF7OkN"
      },
      "source": [
        "#NB: The current contents are for testing only\n",
        "#This function should return: \n",
        "#  -a sparse numpy matrix of document features\n",
        "#  -a list of the correct genre for each document\n",
        "#  -a list of the vocabulary used by the features, such that the ith term of the\n",
        "#    list is the word whose counts appear in the ith column of the matrix. \n",
        "\n",
        "# This function should create a feature representation using all tokens that\n",
        "# contain an alphabetic character.\n",
        "def createBasicFeatures(corpus):\n",
        "  v = DictVectorizer()\n",
        "  # for each document count the number of occurances of each word containing 1+ alphabetic characters\n",
        "  texts = v.fit_transform(Counter([item for item in corpus[doc]['text'].split(' ') if item.islower()]) for doc in range(len(corpus)))\n",
        "  genres = [corpus[i]['genre'] for i in range(len(corpus))]\n",
        "  vocab = list(v.vocabulary_.keys())\n",
        "  \n",
        "  return texts,genres,vocab\n",
        "\n",
        "# definitions used to process data\n",
        "stop = stopwords.words('english')\n",
        "\n",
        "nouns = ['NNP','NNPS', 'NN','NNS']\n",
        "adj_adv = ['JJ', 'JJR','JJS', 'RB', 'RBR', 'RBS']\n",
        "verbs = ['VB', 'VBD', 'VBG', 'VBZ', 'VBN', 'VBP']\n",
        "\n",
        "# This function can add other features you want that help classification\n",
        "# accuracy, such as bigrams, word prefixes and suffixes, etc.\n",
        "def createInterestingFeatures(corpus):\n",
        "  word_dict = []\n",
        "  for doc in range(len(corpus)):\n",
        "    word_list = []\n",
        "    split_words = corpus[doc]['text'].split(' ')\n",
        "    split_words =  list(filter(None, split_words))\n",
        "    tag = nltk.tag.pos_tag(split_words)\n",
        "    for k in range(len(split_words)):\n",
        "      word = split_words[k]\n",
        "      word_tag = nltk.tag.pos_tag([word])[0][1]\n",
        "      if word.islower() and word not in stop and word_tag in adj_adv:\n",
        "        word_list += [word]\n",
        "    counting = Counter(word_list)\n",
        "    word_dict += [counting]\n",
        "  v = DictVectorizer()\n",
        "  texts = v.fit_transform(word_dict)\n",
        "  genres = [corpus[i]['genre'] for i in range(len(corpus))]\n",
        "  vocab = list(v.vocabulary_.keys())\n",
        "\n",
        "  return texts,genres,vocab"
      ],
      "execution_count": 4,
      "outputs": []
    },
    {
      "cell_type": "code",
      "metadata": {
        "id": "KfTBqBltXe7Y"
      },
      "source": [
        "#given a numpy matrix representation of the features for the training set, the \n",
        "# vector of true classes for each example, and the vocabulary as described \n",
        "# above, this computes the accuracy of the model using leave one out cross \n",
        "# validation and reports the most indicative features for each class\n",
        "def evaluateModel(X,y,vocab,penalty=\"l1\"):\n",
        "  #create and fit the model\n",
        "  model = LogisticRegression(penalty=penalty,solver=\"liblinear\")\n",
        "  results = cross_validate(model,X,y,cv=LeaveOneOut())\n",
        "  \n",
        "  #determine the average accuracy\n",
        "  scores = results[\"test_score\"]\n",
        "  avg_score = sum(scores)/len(scores)\n",
        "  \n",
        "  #determine the most informative features\n",
        "  # this requires us to fit the model to everything, because we need a\n",
        "  # single model to draw coefficients from, rather than 26\n",
        "  model.fit(X,y)\n",
        "  neg_class_prob_sorted = model.coef_[0, :].argsort()\n",
        "  pos_class_prob_sorted = (-model.coef_[0, :]).argsort()\n",
        "\n",
        "  termsToTake = 20\n",
        "  pos_indicators = [vocab[i] for i in neg_class_prob_sorted[:termsToTake]]\n",
        "  neg_indicators = [vocab[i] for i in pos_class_prob_sorted[:termsToTake]]\n",
        "\n",
        "  return avg_score,pos_indicators,neg_indicators\n",
        "\n",
        "def runEvaluation(X,y,vocab):\n",
        "  print(\"----------L1 Norm-----------\")\n",
        "  avg_score,pos_indicators,neg_indicators = evaluateModel(X,y,vocab,\"l1\")\n",
        "  print(\"The model's average accuracy is %f\"%avg_score)\n",
        "  print(\"The most informative terms for pos are: %s\"%pos_indicators)\n",
        "  print(\"The most informative terms for neg are: %s\"%neg_indicators)\n",
        "  #this call will fit a model with L2 normalization\n",
        "  print(\"----------L2 Norm-----------\")\n",
        "  avg_score,pos_indicators,neg_indicators = evaluateModel(X,y,vocab,\"l2\")\n",
        "  print(\"The model's average accuracy is %f\"%avg_score)\n",
        "  print(\"The most informative terms for pos are: %s\"%pos_indicators)\n",
        "  print(\"The most informative terms for neg are: %s\"%neg_indicators)\n",
        "  "
      ],
      "execution_count": 5,
      "outputs": []
    },
    {
      "cell_type": "code",
      "metadata": {
        "id": "mtlbg_aqdcW_"
      },
      "source": [
        "corpus = readShakespeare()"
      ],
      "execution_count": 6,
      "outputs": []
    },
    {
      "cell_type": "markdown",
      "metadata": {
        "id": "vpCqIhiqdhen"
      },
      "source": [
        "Run the following to train and evaluate two models with basic features:"
      ]
    },
    {
      "cell_type": "code",
      "metadata": {
        "id": "4IpJ7PKjvc8I",
        "outputId": "11c494d8-bca4-4de7-ff37-828cad776a65",
        "colab": {
          "base_uri": "https://localhost:8080/",
          "height": 173
        }
      },
      "source": [
        "X,y,vocab = createBasicFeatures(corpus)\n",
        "runEvaluation(X, y, vocab)"
      ],
      "execution_count": 7,
      "outputs": [
        {
          "output_type": "stream",
          "text": [
            "----------L1 Norm-----------\n",
            "The model's average accuracy is 0.576923\n",
            "The most informative terms for pos are: ['beholder', 'ounce', 'approve', 'ornament', 'bewray', 'personage', 'crowing', 'alls', 'votary', 'pompion', 'parfect', 'whereuntil', 'pursents', 'vara', 'career', 'fortuna', 'jesting', 'mumble', 'zany', 'aforehand']\n",
            "The most informative terms for neg are: ['invincible', 'waft', 'recreant', 'annals', 'consorted', 'sorry', 'norwegian', 'authorities', 'remember', 'alighted', 'survive', 'strangle', 'pompion', 'parfect', 'whereuntil', 'pursents', 'quoniam', 'vara', 'career', 'jesting']\n",
            "----------L2 Norm-----------\n",
            "The model's average accuracy is 0.769231\n",
            "The most informative terms for pos are: ['bewray', 'beholder', 'approve', 'ornament', 'alls', 'ounce', 'aided', 'flourish', 'personage', 'crowing', 'stirrup', 'undispos', 'innovation', 'heel', 'whenas', 'spurns', 'solicits', 'devesting', 'daggers', 'erskip']\n",
            "The most informative terms for neg are: ['recreant', 'moonshine', 'waft', 'invincible', 'annals', 'severs', 'norwegian', 'sorry', 'posterity', 'fine', 'consorted', 'authorities', 'atwain', 'tarentum', 'alighted', 'goodwins', 'vocatur', 'honeyless', 'hang', 'censer']\n"
          ],
          "name": "stdout"
        }
      ]
    },
    {
      "cell_type": "markdown",
      "metadata": {
        "id": "_FmW9F6ZdoyM"
      },
      "source": [
        "Run the following to train and evaluate two models with features that are interesting for distinguishing comedy and tragedy:"
      ]
    },
    {
      "cell_type": "code",
      "metadata": {
        "id": "BW0Ajs2MdtIC",
        "outputId": "d8ba130d-2588-4573-a600-63b613834ceb",
        "colab": {
          "base_uri": "https://localhost:8080/",
          "height": 173
        }
      },
      "source": [
        "X,y,vocab = createInterestingFeatures(corpus)\n",
        "runEvaluation(X, y, vocab)"
      ],
      "execution_count": 8,
      "outputs": [
        {
          "output_type": "stream",
          "text": [
            "----------L1 Norm-----------\n",
            "The model's average accuracy is 0.923077\n",
            "The most informative terms for pos are: ['unreasonable', 'uphoarded', 'priscian', 'luxuriously', 'envious', 'delicious', 'churlishly', 'pedantical', 'measurable', 'honourably', 'unsullied', 'ushered', 'audaciously', 'warily', 'dominical', 'russian', 'unvisited', 'well', 'uphold', 'abhominable']\n",
            "The most informative terms for neg are: ['jelly', 'eastern', 'rascal', 'halfcan', 'pastoral', 'unconfirmed', 'pedantical', 'russian', 'unvisited', 'unsullied', 'ushered', 'unpolished', 'uneducated', 'audaciously', 'warily', 'dominical', 'untrained', 'measurable', 'abhominable', 'honourably']\n",
            "----------L2 Norm-----------\n",
            "The model's average accuracy is 0.807692\n",
            "The most informative terms for pos are: ['unreasonable', 'uphoarded', 'priscian', 'delicious', 'churlishly', 'sophisticated', 'extraordinary', 'envious', 'intolerable', 'empiricutic', 'vainly', 'finest', 'next', 'personal', 'luxuriously', 'unconsidered', 'fabian', 'imperious', 'unfurnish', 'makest']\n",
            "The most informative terms for neg are: ['jelly', 'rascal', 'eastern', 'entirely', 'godly', 'pastoral', 'factionary', 'tightly', 'foolishly', 'corporal', 'military', 'lightly', 'dearly', 'thoroughly', 'unseasonably', 'unreconciliable', 'halfcan', 'major', 'cruelly', 'assemble']\n"
          ],
          "name": "stdout"
        }
      ]
    },
    {
      "cell_type": "markdown",
      "metadata": {
        "id": "mTdH4hoTMXFp"
      },
      "source": [
        "Using only adjective and adverbs as predictive features is very good at predicting whether a document is a tragedy or a comedy. Tragedy key words include such strong words as \"cruelly\", \"abhominable\". There are additional interesting words such as \"jelly\" that are good predictors of a tragedy, likely because they are used in one specific work. "
      ]
    },
    {
      "cell_type": "code",
      "metadata": {
        "id": "1iHudrPb5NPY"
      },
      "source": [
        ""
      ],
      "execution_count": null,
      "outputs": []
    }
  ]
}
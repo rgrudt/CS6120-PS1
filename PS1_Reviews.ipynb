{
  "nbformat": 4,
  "nbformat_minor": 0,
  "metadata": {
    "colab": {
      "name": "PS1-Reviews.ipynb",
      "provenance": [],
      "collapsed_sections": [],
      "include_colab_link": true
    },
    "kernelspec": {
      "name": "python3",
      "display_name": "Python 3"
    }
  },
  "cells": [
    {
      "cell_type": "markdown",
      "metadata": {
        "id": "view-in-github",
        "colab_type": "text"
      },
      "source": [
        "<a href=\"https://colab.research.google.com/github/rgrudt/CS6120-PS1/blob/master/PS1_Reviews.ipynb\" target=\"_parent\"><img src=\"https://colab.research.google.com/assets/colab-badge.svg\" alt=\"Open In Colab\"/></a>"
      ]
    },
    {
      "cell_type": "markdown",
      "metadata": {
        "id": "Jc2R3x6QSIFi"
      },
      "source": [
        "In this experiment, you will explore the accuracy of sentiment classificaiton using different feature representations of text documents.\n",
        "\n",
        "First, you will implement `createBasicFeatures`, which creates a sparse matrix representation of a collection of documents. For this exercise, you should have a feature for each word containing at least one alphabetic character. You may use the `numpy` and `sklearn` packages to help with implementing a sparse matrix.\n",
        "\n",
        "Then, you will implement `createFancyFeatures`, which can specify at any other features you choose to help improve performance on the classification task.\n",
        "\n",
        "The two code blocks at the end train and evaluate two models—logistic regression with L1 and L2 regularization—using your featurization functions. Besides held-out classification accuracy with 10-fold cross-validation, you will also see the features in each class given high weights by the model.\n",
        "\n",
        "A helpful resource for getting up to speed with vector representations of documents is the first two chapters of Delip Rao and Brian McMahan, _Natural Language Processing with PyTorch_, O'Reilly, 2019.  You should be able to <a href=\"https://learning.oreilly.com/library/view/natural-language-processing/9781491978221/\">read it online</a> via the Northeastern Library's subscription using a <tt>northeastern.edu</tt> email address."
      ]
    },
    {
      "cell_type": "code",
      "metadata": {
        "id": "AdVS67_HNRmW"
      },
      "source": [
        "import json\n",
        "import requests\n",
        "from sklearn.linear_model import LogisticRegression\n",
        "from sklearn.model_selection import cross_validate,LeaveOneOut,KFold\n",
        "import numpy as np"
      ],
      "execution_count": 1,
      "outputs": []
    },
    {
      "cell_type": "code",
      "metadata": {
        "id": "BWfj256bA4xe",
        "outputId": "111c594b-6706-4ee2-f34f-375161ca5057",
        "colab": {
          "base_uri": "https://localhost:8080/",
          "height": 119
        }
      },
      "source": [
        "# libraries needed for fancy feature extraction\n",
        "from sklearn.feature_extraction import DictVectorizer\n",
        "from collections import Counter, OrderedDict\n",
        "\n",
        "import nltk\n",
        "nltk.download('stopwords')\n",
        "from nltk.corpus import stopwords\n",
        "import re\n",
        "import pandas as pd\n",
        "\n",
        "nltk.download('averaged_perceptron_tagger')"
      ],
      "execution_count": 2,
      "outputs": [
        {
          "output_type": "stream",
          "text": [
            "[nltk_data] Downloading package stopwords to /root/nltk_data...\n",
            "[nltk_data]   Unzipping corpora/stopwords.zip.\n",
            "[nltk_data] Downloading package averaged_perceptron_tagger to\n",
            "[nltk_data]     /root/nltk_data...\n",
            "[nltk_data]   Unzipping taggers/averaged_perceptron_tagger.zip.\n"
          ],
          "name": "stdout"
        },
        {
          "output_type": "execute_result",
          "data": {
            "text/plain": [
              "True"
            ]
          },
          "metadata": {
            "tags": []
          },
          "execution_count": 2
        }
      ]
    },
    {
      "cell_type": "code",
      "metadata": {
        "id": "PzjMY8fYQbB6",
        "cellView": "both"
      },
      "source": [
        "# read in the movie review corpus\n",
        "def readReviews():\n",
        "  raw = requests.get(\"https://raw.githubusercontent.com/mutherr/CS6120-PS1-data/master/cornell_reviews.json\").text.strip()\n",
        "  corpus = [json.loads(line) for line in raw.split(\"\\n\")]\n",
        "\n",
        "  return corpus"
      ],
      "execution_count": 3,
      "outputs": []
    },
    {
      "cell_type": "markdown",
      "metadata": {
        "id": "Qvd3I95FT01D"
      },
      "source": [
        "This is where you will implement two functions to featurize the data."
      ]
    },
    {
      "cell_type": "code",
      "metadata": {
        "id": "039fPQcF7OkN"
      },
      "source": [
        "#NB: The current contents are for testing only\n",
        "#This function should return: \n",
        "#  -a sparse numpy matrix of document features\n",
        "#  -a list of the correct class for each document\n",
        "#  -a list of the vocabulary used by the features, such that the ith term of the\n",
        "#    list is the word whose counts appear in the ith column of the matrix. \n",
        "\n",
        "# This function should create a feature representation using all tokens that\n",
        "# contain an alphabetic character.\n",
        "def createBasicFeatures(corpus):\n",
        "  v = DictVectorizer()\n",
        "  # for each document count the number of occurances of each word containing 1+ alphabetic characters\n",
        "  texts = v.fit_transform(Counter([item for item in corpus[doc]['text'].split(' ') if item.islower()]) for doc in range(len(corpus)))\n",
        "  # find the class for each document\n",
        "  classes = [corpus[i]['class'] for i in range(len(corpus))]\n",
        "  # vocabulary list for matrix\n",
        "  vocab = list(v.vocabulary_.keys())\n",
        "  return texts,classes,vocab\n",
        "\n",
        "# This function can add other features you want that help classification\n",
        "# accuracy, such as bigrams, word prefixes and suffixes, etc.\n",
        "\n",
        "# definitions used to process data\n",
        "stop = stopwords.words('english')\n",
        "\n",
        "def createFancyFeatures(corpus):\n",
        "  # initialize dictionary for the features for all of the documents\n",
        "  word_dict = []\n",
        "  for doc in range(len(corpus)):\n",
        "    # initial list of words for current document and \n",
        "    word_list = []\n",
        "    # keep track of previous word in order to make bigrams\n",
        "    prev_word = np.nan\n",
        "\n",
        "    # split corpus on spaces and '-' loop through each word\n",
        "    for word in re.split(' |-',corpus[doc]['text']):\n",
        "      # if the word contains atleast one alphabetical character and is not in stop word\n",
        "      if word.islower() and word not in stop:\n",
        "        word_list += [word]\n",
        "        # if the previous word is not null, then combine to make bigram\n",
        "        if not pd.isnull(prev_word):\n",
        "          word_list +=[prev_word +' '+ word]\n",
        "        prev_word = word\n",
        "      else:\n",
        "        prev_word = np.nan\n",
        "    counting = Counter(word_list)\n",
        "    word_dict += [counting]\n",
        "\n",
        "  # create matrix of counted features\n",
        "  v = DictVectorizer()\n",
        "  texts = v.fit_transform(word_dict)\n",
        "  classes = [corpus[i]['class'] for i in range(len(corpus))]\n",
        "  vocab = list(v.vocabulary_.keys())\n",
        "\n",
        "  return texts,classes,vocab"
      ],
      "execution_count": 4,
      "outputs": []
    },
    {
      "cell_type": "code",
      "metadata": {
        "id": "KfTBqBltXe7Y"
      },
      "source": [
        "#given a numpy matrix representation of the features for the training set, the \n",
        "# vector of true classes for each example, and the vocabulary as described \n",
        "# above, this computes the accuracy of the model using leave one out cross \n",
        "# validation and reports the most indicative features for each class\n",
        "\n",
        "def evaluateModel(X,y,vocab,penalty=\"l1\"):\n",
        "  #create and fit the model\n",
        "  model = LogisticRegression(penalty=penalty,solver=\"liblinear\")\n",
        "  results = cross_validate(model,X,y,cv=KFold(n_splits=10, shuffle=True, random_state=1))\n",
        "  \n",
        "  #determine the average accuracy\n",
        "  scores = results[\"test_score\"]\n",
        "  avg_score = sum(scores)/len(scores)\n",
        "  \n",
        "  #determine the most informative features\n",
        "  # this requires us to fit the model to everything, because we need a\n",
        "  # single model to draw coefficients from, rather than 26\n",
        "  model.fit(X,y)\n",
        "  class0_weight_sorted = model.coef_[0, :].argsort()\n",
        "  class1_weight_sorted = (-model.coef_[0, :]).argsort()\n",
        "\n",
        "  termsToTake = 20\n",
        "  class0_indicators = [vocab[i] for i in class0_weight_sorted[:termsToTake]]\n",
        "  class1_indicators = [vocab[i] for i in class1_weight_sorted[:termsToTake]]\n",
        "\n",
        "  if model.classes_[0] == \"pos\":\n",
        "    return avg_score,class0_indicators,class1_indicators\n",
        "  else:\n",
        "    return avg_score,class1_indicators,class0_indicators\n",
        "\n",
        "def runEvaluation(X,y,vocab):\n",
        "  print(\"----------L1 Norm-----------\")\n",
        "  avg_score,pos_indicators,neg_indicators = evaluateModel(X,y,vocab,\"l1\")\n",
        "  print(\"The model's average accuracy is %f\"%avg_score)\n",
        "  print(\"The most informative terms for pos are: %s\"%pos_indicators)\n",
        "  print(\"The most informative terms for neg are: %s\"%neg_indicators)\n",
        "  #this call will fit a model with L2 normalization\n",
        "  print(\"----------L2 Norm-----------\")\n",
        "  avg_score,pos_indicators,neg_indicators = evaluateModel(X,y,vocab,\"l2\")\n",
        "  print(\"The model's average accuracy is %f\"%avg_score)\n",
        "  print(\"The most informative terms for pos are: %s\"%pos_indicators)\n",
        "  print(\"The most informative terms for neg are: %s\"%neg_indicators)"
      ],
      "execution_count": 5,
      "outputs": []
    },
    {
      "cell_type": "code",
      "metadata": {
        "id": "VWWq5VgmECKV"
      },
      "source": [
        "corpus = readReviews()"
      ],
      "execution_count": 6,
      "outputs": []
    },
    {
      "cell_type": "markdown",
      "metadata": {
        "id": "72OUet02TjBo"
      },
      "source": [
        "Run the following to train and evaluate two models using basic features:"
      ]
    },
    {
      "cell_type": "code",
      "metadata": {
        "id": "4IpJ7PKjvc8I",
        "outputId": "eb8c492b-4f82-47a5-a2f3-8ae2aa785857",
        "colab": {
          "base_uri": "https://localhost:8080/",
          "height": 173
        }
      },
      "source": [
        "X,y,vocab = createBasicFeatures(corpus)\n",
        "runEvaluation(X, y, vocab)"
      ],
      "execution_count": 7,
      "outputs": [
        {
          "output_type": "stream",
          "text": [
            "----------L1 Norm-----------\n",
            "The model's average accuracy is 0.816000\n",
            "The most informative terms for pos are: ['palace', 'boobies', 'supplicate', '_hope', \"billie's\", 'newsman', 'camelia', 'francisco', 'pepto', 'rendered', \"ripley's\", 'cusackian', 'footsy', 'four-letter', 'up-and-up', 'shel', 'pirate', 'scratched', 'half-crazed', 'callous']\n",
            "The most informative terms for neg are: ['hyper-colorized', 'ifans', 'mith', 'convenience', 'dread-factor', 'intones', \"singleton's\", 'ex-rolling', 'skies', 'hugely', \"`kundun'\", 'factory-worker-turned-prostitute', 'ti', 'imports', 'eighteenth', \"wasn't\", 'representing', 'chunky', 'nickolas', 'lifelessness']\n",
            "----------L2 Norm-----------\n",
            "The model's average accuracy is 0.833500\n",
            "The most informative terms for pos are: ['four-letter', 'sample', 'bobo', 'boobies', 'thelma', 'up-and-up', 'prose', \"'blair\", 'effects-heavy', 'pepto', 'shel', 'supplicate', 'jade', '_hope', 'freeway', \"mouse's\", 'spyglass', 'schulz', 'orbit', 'rendered']\n",
            "The most informative terms for neg are: ['imports', 'ex-rolling', \"singleton's\", 'eighteenth', 'ifans', 'skies', 'sublimated', 'holstering', 'chunky', 'convenience', 'fortenberry', 'aday', 'fugitive-like', 'eight-track', 'mith', 'intones', 'job', 'alleviated', 'dread-factor', 'veterans']\n"
          ],
          "name": "stdout"
        }
      ]
    },
    {
      "cell_type": "markdown",
      "metadata": {
        "id": "4sjxLL2PTrJi"
      },
      "source": [
        "Run the following to train and evaluate two models using extended features:"
      ]
    },
    {
      "cell_type": "code",
      "metadata": {
        "id": "1iHudrPb5NPY",
        "outputId": "537c15ae-7234-4d8c-de1f-60fcf631c6af",
        "colab": {
          "base_uri": "https://localhost:8080/",
          "height": 173
        }
      },
      "source": [
        "X,y,vocab = createFancyFeatures(corpus)\n",
        "runEvaluation(X, y, vocab)"
      ],
      "execution_count": 8,
      "outputs": [
        {
          "output_type": "stream",
          "text": [
            "----------L1 Norm-----------\n",
            "The model's average accuracy is 0.822000\n",
            "The most informative terms for pos are: ['writer/director/star', 'life hell', 'astounding cate', 'dinos', 'home theater', 'fulfilled', 'job demonstrating', 'spent avidly', 'awful snake', 'spielberg', 'accidents', 'strangely insulting', 'glee path', \"bunny's debt\", 'superior abilities', 'wildly uneven', \"judge's plot\", 'quake', 'crime way', 'ironically clueless']\n",
            "The most informative terms for neg are: ['physically backpedal', 'beautiful witch', 'errant ways', 'spark develops', 'chest beating', 'twenty something', 'big note', 'facing loss', 'formulaism', 'great experiment', 'titilation', 'wes anderson', 'mid 70s', 'director/actor/co writer', 'telecommunications industry', 'jarring christopher', \"soran's plan\", 'turned vampire', 'talking trash', 'ridiculous outfit']\n",
            "----------L2 Norm-----------\n",
            "The model's average accuracy is 0.852500\n",
            "The most informative terms for pos are: ['quake', '`there', 'bandit king', 'accidents', 'home theater', 'crime way', 'time andromeda', 'writer/director/star', 'ironically clueless', 'truly alone', \"bunny's debt\", 'glee path', 'superior abilities', 'perpetually sour', 'sweet boy', 'hanks/ryan', 'basically deems', 'spent avidly', 'ferocious pairing', 'pre']\n",
            "The most informative terms for neg are: ['ridiculous outfit', 'facing loss', 'big note', 'physically backpedal', 'formulaism', 'sheer intelligence', 'jarring christopher', 'gangster film', 'eat meat', 'turned vampire', 'two ends', 'seth especially', 'chest beating', 'nykvist create', 'beautiful witch', 'errant ways', 'comedic scenes', 'meanders', 'project may', 'uncovering']\n"
          ],
          "name": "stdout"
        }
      ]
    },
    {
      "cell_type": "markdown",
      "metadata": {
        "id": "cuflNzQiBCcH"
      },
      "source": [
        "Adding bigrams, removing stop words, and spliting words on '-' (e.g. up-and-up), improves the model accuracy.  "
      ]
    },
    {
      "cell_type": "code",
      "metadata": {
        "id": "dA9aW_B4BFwC"
      },
      "source": [
        ""
      ],
      "execution_count": null,
      "outputs": []
    }
  ]
}